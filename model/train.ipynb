{
 "cells": [
  {
   "cell_type": "code",
   "execution_count": 207,
   "metadata": {},
   "outputs": [],
   "source": [
    "import gymnasium as gym\n",
    "import gym_anytrading\n",
    "from gym_anytrading.envs import TradingEnv, StocksEnv, Actions, Positions\n",
    "import pandas as pd\n",
    "import numpy as np\n",
    "import matplotlib.pyplot as plt\n",
    "import torch\n",
    "import torch.nn as nn\n",
    "import torch.optim as optim\n",
    "import random\n",
    "from collections import deque"
   ]
  },
  {
   "cell_type": "code",
   "execution_count": 208,
   "metadata": {},
   "outputs": [],
   "source": [
    "TICKER_SYMBOL = \"GOOG\"\n",
    "DATASET_FILE = f\"data/{TICKER_SYMBOL}.csv\""
   ]
  },
  {
   "cell_type": "code",
   "execution_count": 209,
   "metadata": {},
   "outputs": [
    {
     "name": "stdout",
     "output_type": "stream",
     "text": [
      "   price      volume   sma\n",
      "0   7.28   976566743  4.51\n",
      "1   6.95  1031889331  4.53\n",
      "2   7.11   660109011  4.55\n",
      "3   7.02   509767599  4.57\n",
      "4   7.03   514047581  4.59\n"
     ]
    }
   ],
   "source": [
    "# load data\n",
    "df = pd.read_csv(DATASET_FILE)\n",
    "print(df.head())"
   ]
  },
  {
   "cell_type": "code",
   "execution_count": 210,
   "metadata": {},
   "outputs": [],
   "source": [
    "# setup env\n",
    "def mprocess_data(env):\n",
    "    start = env.frame_bound[0] - env.window_size\n",
    "    end = env.frame_bound[1]\n",
    "    prices = env.df.loc[:, \"price\"].to_numpy()[start:end]\n",
    "    signal_features = env.df.loc[:, [\"price\", \"volume\", \"sma\"]].to_numpy()[start:end]\n",
    "    return prices, signal_features\n",
    "\n",
    "\n",
    "class MStocksEnv(StocksEnv):\n",
    "    _process_data = mprocess_data\n",
    "\n",
    "\n",
    "env = MStocksEnv(df=df, window_size=200, frame_bound=(200, 4000))"
   ]
  },
  {
   "cell_type": "code",
   "execution_count": 211,
   "metadata": {},
   "outputs": [
    {
     "name": "stdout",
     "output_type": "stream",
     "text": [
      "env information:\n",
      "> shape: (200, 3)\n",
      "> df.shape: (4903, 3)\n",
      "> prices.shape: (4000,)\n",
      "> signal_features.shape: (4000, 3)\n",
      "> max_possible_profit: 42997904197.02596\n"
     ]
    }
   ],
   "source": [
    "print(\"env information:\")\n",
    "print(\"> shape:\", env.unwrapped.shape)\n",
    "print(\"> df.shape:\", env.unwrapped.df.shape)\n",
    "print(\"> prices.shape:\", env.unwrapped.prices.shape)\n",
    "print(\"> signal_features.shape:\", env.unwrapped.signal_features.shape)\n",
    "print(\"> max_possible_profit:\", env.unwrapped.max_possible_profit())"
   ]
  },
  {
   "cell_type": "code",
   "execution_count": 212,
   "metadata": {},
   "outputs": [],
   "source": [
    "# Hyperparameters\n",
    "NUM_EPISODES = 20\n",
    "BATCH_SIZE = 64\n",
    "GAMMA = 0.99\n",
    "LEARNING_RATE = 1e-3\n",
    "TARGET_UPDATE_FREQ = 2  # episodes\n",
    "MEMORY_CAPACITY = 10000\n",
    "EPS_START = 1.0\n",
    "EPS_END = 0.01\n",
    "EPS_DECAY = 0.995"
   ]
  },
  {
   "cell_type": "code",
   "execution_count": 213,
   "metadata": {},
   "outputs": [],
   "source": [
    "# Define the Q-Network\n",
    "class DQN(nn.Module):\n",
    "    def __init__(self, input_dim, output_dim):\n",
    "        super(DQN, self).__init__()\n",
    "        # A simple MLP; you can customize this architecture\n",
    "        self.fc = nn.Sequential(\n",
    "            nn.Linear(input_dim, 128),\n",
    "            nn.ReLU(),\n",
    "            nn.Linear(128, 64),\n",
    "            nn.ReLU(),\n",
    "            nn.Linear(64, output_dim),\n",
    "        )\n",
    "\n",
    "    def forward(self, x):\n",
    "        return self.fc(x)"
   ]
  },
  {
   "cell_type": "code",
   "execution_count": 214,
   "metadata": {},
   "outputs": [],
   "source": [
    "# Replay Memory\n",
    "class ReplayMemory:\n",
    "    def __init__(self, capacity):\n",
    "        self.memory = deque(maxlen=capacity)\n",
    "\n",
    "    def push(self, transition):\n",
    "        self.memory.append(transition)\n",
    "\n",
    "    def sample(self, batch_size):\n",
    "        return random.sample(self.memory, batch_size)\n",
    "\n",
    "    def __len__(self):\n",
    "        return len(self.memory)"
   ]
  },
  {
   "cell_type": "code",
   "execution_count": 215,
   "metadata": {},
   "outputs": [],
   "source": [
    "# Preprocess environment observation\n",
    "def preprocess_obs(obs):\n",
    "    # Assume obs is a 2D array with shape (window_size, num_features)\n",
    "    # Flatten the observation to a 1D vector\n",
    "    return np.array(obs).flatten()"
   ]
  },
  {
   "cell_type": "code",
   "execution_count": 216,
   "metadata": {},
   "outputs": [],
   "source": [
    "obs_space_shape = env.observation_space.shape  # e.g. (window_size, num_features)\n",
    "input_dim = np.prod(obs_space_shape)  # flatten the observation\n",
    "output_dim = env.action_space.n  # 2 actions: Sell (0) and Buy (1)\n",
    "\n",
    "device = torch.device(\"cuda\" if torch.cuda.is_available() else \"cpu\")"
   ]
  },
  {
   "cell_type": "code",
   "execution_count": 217,
   "metadata": {},
   "outputs": [],
   "source": [
    "# Main Training Loop\n",
    "def train():\n",
    "    policy_net = DQN(input_dim, output_dim).to(device)\n",
    "    target_net = DQN(input_dim, output_dim).to(device)\n",
    "    target_net.load_state_dict(policy_net.state_dict())\n",
    "    target_net.eval()\n",
    "\n",
    "    optimizer = optim.Adam(policy_net.parameters(), lr=LEARNING_RATE)\n",
    "    memory = ReplayMemory(MEMORY_CAPACITY)\n",
    "    epsilon = EPS_START\n",
    "\n",
    "    for episode in range(NUM_EPISODES):\n",
    "        obs, info = env.reset(seed=episode)\n",
    "        obs = preprocess_obs(obs)\n",
    "        total_reward = 0\n",
    "        done = False\n",
    "\n",
    "        while not done:\n",
    "            # Epsilon-greedy action selection\n",
    "            if random.random() < epsilon:\n",
    "                action = env.action_space.sample()\n",
    "            else:\n",
    "                with torch.no_grad():\n",
    "                    state_tensor = torch.FloatTensor(obs).unsqueeze(0).to(device)\n",
    "                    q_values = policy_net(state_tensor)\n",
    "                    action = q_values.argmax().item()\n",
    "\n",
    "            next_obs, reward, terminated, truncated, info = env.step(action)\n",
    "            done = terminated or truncated\n",
    "            next_obs_flat = preprocess_obs(next_obs)\n",
    "            total_reward += reward\n",
    "\n",
    "            # Save transition\n",
    "            memory.push((obs, action, reward, next_obs_flat, done))\n",
    "            obs = next_obs_flat\n",
    "\n",
    "            # Perform a training step\n",
    "            if len(memory) >= BATCH_SIZE:\n",
    "                transitions = memory.sample(BATCH_SIZE)\n",
    "                batch_obs, batch_actions, batch_rewards, batch_next_obs, batch_dones = (\n",
    "                    zip(*transitions)\n",
    "                )\n",
    "\n",
    "                batch_obs = torch.FloatTensor(np.array(batch_obs)).to(device)\n",
    "                batch_actions = torch.LongTensor(batch_actions).unsqueeze(1).to(device)\n",
    "                batch_rewards = torch.FloatTensor(batch_rewards).unsqueeze(1).to(device)\n",
    "                batch_next_obs = torch.FloatTensor(np.array(batch_next_obs)).to(device)\n",
    "                batch_dones = torch.FloatTensor(batch_dones).unsqueeze(1).to(device)\n",
    "\n",
    "                # Compute current Q values\n",
    "                current_q = policy_net(batch_obs).gather(1, batch_actions)\n",
    "\n",
    "                # Compute target Q values using the target network\n",
    "                with torch.no_grad():\n",
    "                    max_next_q = target_net(batch_next_obs).max(1, keepdim=True)[0]\n",
    "                    target_q = batch_rewards + GAMMA * max_next_q * (1 - batch_dones)\n",
    "\n",
    "                # Compute loss (MSE)\n",
    "                loss = nn.MSELoss()(current_q, target_q)\n",
    "\n",
    "                optimizer.zero_grad()\n",
    "                loss.backward()\n",
    "                optimizer.step()\n",
    "\n",
    "        # Decay epsilon\n",
    "        epsilon = max(EPS_END, epsilon * EPS_DECAY)\n",
    "        print(\n",
    "            f\"Episode {episode+1}/{NUM_EPISODES}, Total Reward: {total_reward:.2f}, Epsilon: {epsilon:.3f}\"\n",
    "        )\n",
    "\n",
    "        # Update the target network periodically\n",
    "        if (episode + 1) % TARGET_UPDATE_FREQ == 0:\n",
    "            target_net.load_state_dict(policy_net.state_dict())\n",
    "\n",
    "    # Save the trained model if desired\n",
    "    torch.save(policy_net.state_dict(), \"dqn_trading_model.pth\")\n",
    "    env.close()"
   ]
  },
  {
   "cell_type": "code",
   "execution_count": 220,
   "metadata": {},
   "outputs": [
    {
     "data": {
      "image/png": "[encoded data removed]",
      "text/plain": [
       "<Figure size 640x480 with 1 Axes>"
      ]
     },
     "metadata": {},
     "output_type": "display_data"
    }
   ],
   "source": [
    "policy_net = DQN(input_dim, output_dim).to(device)\n",
    "\n",
    "# Load the saved model weights\n",
    "policy_net.load_state_dict(torch.load(\"dqn_trading_model.pth\", map_location=device))\n",
    "policy_net.eval()  # Set to evaluation mode\n",
    "\n",
    "# Run the test episode\n",
    "obs, info = env.reset()\n",
    "obs = preprocess_obs(obs)\n",
    "done = False\n",
    "total_reward = 0\n",
    "\n",
    "while not done:\n",
    "    with torch.no_grad():\n",
    "        state_tensor = torch.FloatTensor(obs).unsqueeze(0).to(device)\n",
    "        q_values = policy_net(state_tensor)\n",
    "        action = q_values.argmax().item()  # Greedy action selection\n",
    "    \n",
    "    next_obs, reward, terminated, truncated, info = env.step(action)\n",
    "    done = terminated or truncated\n",
    "    total_reward += reward\n",
    "    obs = preprocess_obs(next_obs)\n",
    "\n",
    "# Optionally, render the entire episode to visualize trades\n",
    "env.unwrapped.render_all()\n"
   ]
  }
 ],
 "metadata": {
  "kernelspec": {
   "display_name": "Python 3",
   "language": "python",
   "name": "python3"
  },
  "language_info": {
   "codemirror_mode": {
    "name": "ipython",
    "version": 3
   },
   "file_extension": ".py",
   "mimetype": "text/x-python",
   "name": "python",
   "nbconvert_exporter": "python",
   "pygments_lexer": "ipython3",
   "version": "3.13.1"
  }
 },
 "nbformat": 4,
 "nbformat_minor": 2
}
